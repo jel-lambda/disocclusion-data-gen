{
 "cells": [
  {
   "cell_type": "code",
   "execution_count": null,
   "metadata": {},
   "outputs": [],
   "source": [
    "from pycocotools.coco import COCO\n",
    "import requests\n",
    "import re\n",
    "\n",
    "coco = COCO('/home/cvmlserver/Seohyeon/v-coco/annotations/captions_val2014.json')\n",
    "\n",
    "imgIds = coco.getImgIds()\n",
    "\n",
    "images = coco.loadImgs(sorted(imgIds))\n",
    "count = 0\n",
    "gender_word = ['person', 'man', 'woman', 'boy', 'girl']\n",
    "\n",
    "for im in images:\n",
    "    annos = coco.loadAnns(coco.getAnnIds(imgIds=im['id']))\n",
    "    download = False\n",
    "    score = 0\n",
    "    for anno in annos:\n",
    "        caption = anno['caption'].lower().split(' ')\n",
    "        if any(word in caption for word in gender_word):\n",
    "            score += 1\n",
    "        else:\n",
    "            break\n",
    "\n",
    "    if score == len(annos):\n",
    "        download = True\n",
    "    \n",
    "    if download:\n",
    "        count += 1\n",
    "        img_data = requests.get(im['coco_url']).content\n",
    "        with open('./data/' + im['file_name'], 'wb') as handler:\n",
    "            handler.write(img_data)\n",
    "\n",
    "    if count % 100 == 0:\n",
    "        print(count, 'images downloaded')\n",
    "    if count == 800:\n",
    "        break\n",
    "\n",
    "print(count, 'total images downloaded')\n"
   ]
  }
 ],
 "metadata": {
  "language_info": {
   "name": "python"
  },
  "orig_nbformat": 4
 },
 "nbformat": 4,
 "nbformat_minor": 2
}
