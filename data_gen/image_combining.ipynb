{
 "cells": [
  {
   "cell_type": "markdown",
   "metadata": {},
   "source": [
    "### Combine image with area information"
   ]
  },
  {
   "cell_type": "code",
   "execution_count": null,
   "metadata": {},
   "outputs": [],
   "source": [
    "import numpy as np\n",
    "import matplotlib.pyplot as plt\n",
    "import cv2\n",
    "from numpy.lib.type_check import imag\n"
   ]
  },
  {
   "cell_type": "code",
   "execution_count": 18,
   "metadata": {},
   "outputs": [
    {
     "data": {
      "text/plain": [
       "True"
      ]
     },
     "execution_count": 18,
     "metadata": {},
     "output_type": "execute_result"
    }
   ],
   "source": [
    "\n",
    "left = cv2.imread(\"./11_l.png\")\n",
    "right = cv2.imread(\"./11_r.png\")\n",
    "left = cv2.cvtColor(left, cv2.COLOR_BGR2GRAY)\n",
    "right = cv2.cvtColor(right, cv2.COLOR_BGR2GRAY)\n",
    "difference = cv2.absdiff(left, right)\n",
    "_, difference = cv2.threshold(difference, 25, 255, cv2.THRESH_BINARY)\n",
    "\n",
    "# subtracted=cv2.absdiff(left, right)\n",
    "cv2.imwrite(\"difference.png\", difference)"
   ]
  },
  {
   "cell_type": "code",
   "execution_count": 2,
   "metadata": {},
   "outputs": [
    {
     "data": {
      "text/plain": [
       "True"
      ]
     },
     "execution_count": 2,
     "metadata": {},
     "output_type": "execute_result"
    }
   ],
   "source": [
    "import cv2\n",
    "\n",
    "# Load the two images\n",
    "img1 = cv2.imread(\"./11_l.png\")\n",
    "img2 = cv2.imread(\"./11_r.png\")\n",
    "\n",
    "# Convert the images to grayscale\n",
    "gray1 = cv2.cvtColor(img1, cv2.COLOR_BGR2GRAY)\n",
    "gray2 = cv2.cvtColor(img2, cv2.COLOR_BGR2GRAY)\n",
    "\n",
    "# Calculate the difference between the two images\n",
    "diff = cv2.absdiff(gray1, gray2)\n",
    "\n",
    "# Threshold the difference to create a binary image\n",
    "_, thresholded = cv2.threshold(diff, 25, 255, cv2.THRESH_BINARY)\n",
    "\n",
    "# Find the contours in the thresholded image\n",
    "contours, _ = cv2.findContours(thresholded, cv2.RETR_EXTERNAL, cv2.CHAIN_APPROX_SIMPLE)\n",
    "\n",
    "# Draw the contours on the original image\n",
    "cv2.drawContours(img1, contours, -1, (0, 0, 255), 2)\n",
    "\n",
    "cv2.imwrite(\"sub.png\", img1)"
   ]
  },
  {
   "cell_type": "code",
   "execution_count": 4,
   "metadata": {},
   "outputs": [
    {
     "data": {
      "text/plain": [
       "True"
      ]
     },
     "execution_count": 4,
     "metadata": {},
     "output_type": "execute_result"
    }
   ],
   "source": [
    "import cv2\n",
    "import numpy as np\n",
    "\n",
    "# Load the two images\n",
    "img1 = cv2.imread(\"./11_l.png\")\n",
    "img2 = cv2.imread(\"./11_r.png\")\n",
    "\n",
    "# Convert the images to grayscale\n",
    "gray1 = cv2.cvtColor(img1, cv2.COLOR_BGR2GRAY)\n",
    "gray2 = cv2.cvtColor(img2, cv2.COLOR_BGR2GRAY)\n",
    "\n",
    "# Calculate the difference between the two images\n",
    "diff = cv2.absdiff(gray1, gray2)\n",
    "\n",
    "# Threshold the difference to create a binary image\n",
    "_, thresholded = cv2.threshold(diff, 25, 255, cv2.THRESH_BINARY)\n",
    "\n",
    "# Invert the thresholded image\n",
    "thresholded = 255 - thresholded\n",
    "\n",
    "# Multiply the original image with the thresholded image to get the subtracted area\n",
    "result = cv2.bitwise_and(img1, img1, mask=thresholded)\n",
    "\n",
    "# Display the result\n",
    "cv2.imwrite(\"result.png\", result)\n"
   ]
  },
  {
   "cell_type": "code",
   "execution_count": null,
   "metadata": {},
   "outputs": [],
   "source": []
  }
 ],
 "metadata": {
  "kernelspec": {
   "display_name": "idl",
   "language": "python",
   "name": "python3"
  },
  "language_info": {
   "codemirror_mode": {
    "name": "ipython",
    "version": 3
   },
   "file_extension": ".py",
   "mimetype": "text/x-python",
   "name": "python",
   "nbconvert_exporter": "python",
   "pygments_lexer": "ipython3",
   "version": "3.8.13"
  },
  "metadata": {
   "interpreter": {
    "hash": "b157589e2ede00d340fed454223ce98f3e66982c0431b5c5286cc0a4d3cc5a4f"
   }
  },
  "orig_nbformat": 2,
  "vscode": {
   "interpreter": {
    "hash": "5d4d2ea42f9d0d09e61e0b8d0be682d345c5f9771f344c188748daadb0295e2c"
   }
  }
 },
 "nbformat": 4,
 "nbformat_minor": 2
}
