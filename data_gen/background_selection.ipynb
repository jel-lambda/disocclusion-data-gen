{
 "cells": [
  {
   "cell_type": "markdown",
   "metadata": {},
   "source": [
    "## background selection\n"
   ]
  },
  {
   "cell_type": "code",
   "execution_count": null,
   "metadata": {},
   "outputs": [],
   "source": [
    "import shutil\n",
    "import os \n",
    "import cv2\n",
    "\n",
    "bg_folder = './archive/indoorCVPR_09/Images/'\n",
    "bg_new = './backgrounds/'\n",
    "bg_names = os.listdir(bg_folder)\n",
    "bg_names=['concert_hall', 'florist', 'dentaloffice', 'stairscase', 'library', 'clothingstore', 'shoeshop']\n",
    "\n",
    "for bg_name in bg_names:\n",
    "    image_names = os.listdir(os.path.join(bg_folder,bg_name))\n",
    "    i = 0\n",
    "    count = 0\n",
    "    for image_name in image_names:\n",
    "        if image_name == '.DS_Store':\n",
    "            continue\n",
    "        if 'gif' in image_name:\n",
    "            continue\n",
    "        image = cv2.imread(os.path.join(bg_folder,bg_name,image_name))\n",
    "        if image is None:\n",
    "            continue\n",
    "        if image.shape[0] > 100 and image.shape[1] > 200:\n",
    "            name = bg_name+'_'+str(i)+'.jpg'\n",
    "            cv2.imwrite(os.path.join(bg_new, name),image)\n",
    "            i += 1\n",
    "        if i == 15:\n",
    "            break\n",
    "        count += 1\n",
    "        if count == len(image_names):\n",
    "            print(bg_name)\n",
    "        \n",
    "\n"
   ]
  },
  {
   "cell_type": "code",
   "execution_count": null,
   "metadata": {},
   "outputs": [],
   "source": [
    "import shutil\n",
    "import os \n",
    "import cv2\n",
    "\n",
    "bg_folder = './archive/indoorCVPR_09/Images/'\n",
    "bg_new = './back2/'\n",
    "bg_names = os.listdir(bg_folder)\n",
    "\n",
    "bg_names=[\n",
    "'library 11',\n",
    "]\n",
    "\n",
    "for bg_name in bg_names:\n",
    "\n",
    "    count = int(bg_name.split(' ')[-1])\n",
    "\n",
    "    bg_name = bg_name.split(' ')[0]\n",
    "\n",
    "    image_names = os.listdir(os.path.join(bg_folder,bg_name+'/'))\n",
    "    for image_name in image_names:\n",
    "        if image_name == '.DS_Store':\n",
    "            continue\n",
    "        if 'gif' in image_name:\n",
    "            continue\n",
    "        \n",
    "        image = cv2.imread(os.path.join(bg_folder,bg_name,image_name))\n",
    "        \n",
    "        if image is None:\n",
    "            continue\n",
    "\n",
    "        if image.shape[1] < 500 and image.shape[1] > 399:\n",
    "            name = bg_name+'_'+str(count)+'.jpg'\n",
    "            cv2.imwrite(os.path.join(bg_new, name),image)\n",
    "            count += 1\n",
    "    print(bg_name, count)\n",
    "        \n",
    "\n"
   ]
  },
  {
   "cell_type": "markdown",
   "metadata": {},
   "source": [
    "# Background rename"
   ]
  },
  {
   "cell_type": "code",
   "execution_count": 8,
   "metadata": {},
   "outputs": [],
   "source": [
    "import os\n",
    "import numpy as np\n",
    "# from util import util\n",
    "import cv2\n",
    "import json\n",
    "\n",
    "%matplotlib inline\n",
    "\n",
    "# change this path to your own path\n",
    "base = '/home/cvmlserver/Seohyeon/v-coco/'\n",
    "\n",
    "bg_folder = os.path.join(base, 'data/backgrounds/')\n",
    "\n",
    "bg_classes = os.listdir(bg_folder)\n",
    "\n",
    "for bg_class in bg_classes:\n",
    "    bg_images = os.listdir(os.path.join(bg_folder, bg_class))\n",
    "    i = 0\n",
    "    for image in bg_images:\n",
    "        if not image.endswith('.jpg'):\n",
    "            pass\n",
    "        os.rename(os.path.join(bg_folder, bg_class, image), os.path.join(bg_folder, bg_class, str(i)+'.jpg'))\n",
    "        i += 1\n",
    "    i = 0\n",
    "    bg_images = os.listdir(os.path.join(bg_folder, bg_class))\n",
    "    for image in bg_images:\n",
    "        if not image.endswith('.jpg'):\n",
    "            pass\n",
    "        os.rename(os.path.join(bg_folder, bg_class, str(i)+'.jpg'), os.path.join(bg_folder, bg_class, bg_class+'_'+str(i)+'.jpg'))\n",
    "        i += 1"
   ]
  }
 ],
 "metadata": {
  "kernelspec": {
   "display_name": "Python 3.10.6 ('11775-hw2')",
   "language": "python",
   "name": "python3"
  },
  "language_info": {
   "codemirror_mode": {
    "name": "ipython",
    "version": 3
   },
   "file_extension": ".py",
   "mimetype": "text/x-python",
   "name": "python",
   "nbconvert_exporter": "python",
   "pygments_lexer": "ipython3",
   "version": "3.10.6"
  },
  "orig_nbformat": 4,
  "vscode": {
   "interpreter": {
    "hash": "09f94152c9560a9262e19909104123c27996423b8d9cefbf1cc31600487b030b"
   }
  }
 },
 "nbformat": 4,
 "nbformat_minor": 2
}
