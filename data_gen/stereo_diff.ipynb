{
 "cells": [
  {
   "cell_type": "markdown",
   "metadata": {},
   "source": [
    "### Combine image with area information"
   ]
  },
  {
   "cell_type": "code",
   "execution_count": 10,
   "metadata": {},
   "outputs": [],
   "source": [
    "import cv2"
   ]
  },
  {
   "cell_type": "code",
   "execution_count": 11,
   "metadata": {},
   "outputs": [],
   "source": [
    "# calculate the difference of two images\n",
    "\n",
    "left_1 = cv2.imread(\"./left_1.png\")\n",
    "left_2 = cv2.imread(\"./left_2.png\")\n",
    "right_1 = cv2.imread(\"./right_1.png\")\n",
    "right_2 = cv2.imread(\"./right_2.png\")\n",
    "\n",
    "# Convert the images to grayscale\n",
    "\n",
    "gray_left_1 = cv2.cvtColor(left_1, cv2.COLOR_BGR2GRAY)\n",
    "gray_left_2 = cv2.cvtColor(left_2, cv2.COLOR_BGR2GRAY)\n",
    "gray_right_1 = cv2.cvtColor(right_1, cv2.COLOR_BGR2GRAY)\n",
    "gray_right_2 = cv2.cvtColor(right_2, cv2.COLOR_BGR2GRAY)\n",
    "\n",
    "difference_left = cv2.absdiff(gray_left_1, gray_left_2)\n",
    "difference_right = cv2.absdiff(gray_right_1, gray_right_2)\n",
    "_, difference_left = cv2.threshold(difference_left, 25, 255, cv2.THRESH_BINARY)\n",
    "_, difference_right = cv2.threshold(difference_right, 25, 255, cv2.THRESH_BINARY)"
   ]
  },
  {
   "cell_type": "code",
   "execution_count": 12,
   "metadata": {},
   "outputs": [],
   "source": [
    "# Threshold the image to get a binary mask\n",
    "_, mask_left_1 = cv2.threshold(gray_left_1, 128, 255, cv2.THRESH_BINARY)\n",
    "_, mask_left_2 = cv2.threshold(gray_left_2, 128, 255, cv2.THRESH_BINARY)\n",
    "_, mask_right_1 = cv2.threshold(gray_right_1, 128, 255, cv2.THRESH_BINARY)\n",
    "_, mask_right_2 = cv2.threshold(gray_right_2, 128, 255, cv2.THRESH_BINARY)\n",
    "\n",
    "# Invert the binary mask\n",
    "mask_left_1 = cv2.bitwise_not(mask_left_1)\n",
    "mask_left_2 = cv2.bitwise_not(mask_left_2)\n",
    "mask_right_1 = cv2.bitwise_not(mask_right_1)\n",
    "mask_right_2 = cv2.bitwise_not(mask_right_2)"
   ]
  },
  {
   "cell_type": "code",
   "execution_count": 13,
   "metadata": {},
   "outputs": [
    {
     "data": {
      "text/plain": [
       "True"
      ]
     },
     "execution_count": 13,
     "metadata": {},
     "output_type": "execute_result"
    }
   ],
   "source": [
    "# Crop mask2 to match mask1\n",
    "result0 = cv2.subtract(mask_left_2, mask_left_1)\n",
    "result0 = 255 - result0\n",
    "result1 = cv2.subtract(mask_right_1, mask_right_2)\n",
    "result1 = 255 - result1\n",
    "\n",
    "final0 = cv2.bitwise_and(left_2, left_2, mask=result0)\n",
    "final1 = cv2.bitwise_and(right_2, right_2, mask=result1)\n",
    "\n",
    "cv2.imwrite(\"final0.png\", final0)\n",
    "cv2.imwrite(\"final1.png\", final1)\n"
   ]
  },
  {
   "cell_type": "code",
   "execution_count": null,
   "metadata": {},
   "outputs": [],
   "source": []
  }
 ],
 "metadata": {
  "kernelspec": {
   "display_name": "idl",
   "language": "python",
   "name": "python3"
  },
  "language_info": {
   "codemirror_mode": {
    "name": "ipython",
    "version": 3
   },
   "file_extension": ".py",
   "mimetype": "text/x-python",
   "name": "python",
   "nbconvert_exporter": "python",
   "pygments_lexer": "ipython3",
   "version": "3.8.13"
  },
  "metadata": {
   "interpreter": {
    "hash": "b157589e2ede00d340fed454223ce98f3e66982c0431b5c5286cc0a4d3cc5a4f"
   }
  },
  "orig_nbformat": 2,
  "vscode": {
   "interpreter": {
    "hash": "5d4d2ea42f9d0d09e61e0b8d0be682d345c5f9771f344c188748daadb0295e2c"
   }
  }
 },
 "nbformat": 4,
 "nbformat_minor": 2
}
