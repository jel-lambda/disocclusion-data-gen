{
 "cells": [
  {
   "cell_type": "markdown",
   "metadata": {},
   "source": [
    "### Combine image with area information"
   ]
  },
  {
   "cell_type": "code",
   "execution_count": null,
   "metadata": {},
   "outputs": [],
   "source": [
    "import numpy as np\n",
    "import matplotlib.pyplot as plt\n",
    "import cv2\n",
    "from numpy.lib.type_check import imag\n"
   ]
  },
  {
   "cell_type": "code",
   "execution_count": 18,
   "metadata": {},
   "outputs": [
    {
     "data": {
      "text/plain": [
       "True"
      ]
     },
     "execution_count": 18,
     "metadata": {},
     "output_type": "execute_result"
    }
   ],
   "source": [
    "\n",
    "left = cv2.imread(\"./im0_l.png\")\n",
    "right = cv2.imread(\"./im0_r.png\")\n",
    "left = cv2.cvtColor(left, cv2.COLOR_BGR2GRAY)\n",
    "right = cv2.cvtColor(right, cv2.COLOR_BGR2GRAY)\n",
    "difference = cv2.absdiff(left, right)\n",
    "_, difference = cv2.threshold(difference, 25, 255, cv2.THRESH_BINARY)\n",
    "\n",
    "# subtracted=cv2.absdiff(left, right)\n",
    "cv2.imwrite(\"difference.png\", difference)"
   ]
  },
  {
   "cell_type": "code",
   "execution_count": 13,
   "metadata": {},
   "outputs": [
    {
     "data": {
      "text/plain": [
       "True"
      ]
     },
     "execution_count": 13,
     "metadata": {},
     "output_type": "execute_result"
    }
   ],
   "source": [
    "import cv2\n",
    "\n",
    "# Load the two images\n",
    "img1 = cv2.imread(\"./im0_l.png\")\n",
    "img2 = cv2.imread(\"./im1_r.png\")\n",
    "\n",
    "# Convert the images to grayscale\n",
    "gray1 = cv2.cvtColor(img1, cv2.COLOR_BGR2GRAY)\n",
    "gray2 = cv2.cvtColor(img2, cv2.COLOR_BGR2GRAY)\n",
    "\n",
    "# Calculate the difference between the two images\n",
    "diff = cv2.absdiff(gray1, gray2)\n",
    "\n",
    "# Threshold the difference to create a binary image\n",
    "_, thresholded = cv2.threshold(diff, 25, 255, cv2.THRESH_BINARY)\n",
    "\n",
    "# Find the contours in the thresholded image\n",
    "contours, _ = cv2.findContours(thresholded, cv2.RETR_EXTERNAL, cv2.CHAIN_APPROX_SIMPLE)\n",
    "# cv2.imwrite(\"contours.png\", contours)\n",
    "# Draw the contours on the original image\n",
    "cv2.drawContours(img1, contours, -1, (0, 0, 255), 2)\n",
    "\n",
    "cv2.imwrite(\"sub.png\", img1)"
   ]
  },
  {
   "cell_type": "code",
   "execution_count": 15,
   "metadata": {},
   "outputs": [
    {
     "data": {
      "text/plain": [
       "True"
      ]
     },
     "execution_count": 15,
     "metadata": {},
     "output_type": "execute_result"
    }
   ],
   "source": [
    "import cv2\n",
    "import numpy as np\n",
    "\n",
    "# Load the two images\n",
    "img1 = cv2.imread(\"./im0_l.png\")\n",
    "img2 = cv2.imread(\"./im1_r.png\")\n",
    "\n",
    "# Convert the images to grayscale\n",
    "gray1 = cv2.cvtColor(img1, cv2.COLOR_BGR2GRAY)\n",
    "gray2 = cv2.cvtColor(img2, cv2.COLOR_BGR2GRAY)\n",
    "\n",
    "# Calculate the difference between the two images\n",
    "# diff = cv2.absdiff(gray1, gray2)\n",
    "\n",
    "# Threshold the difference to create a binary image\n",
    "_, thresholded = cv2.threshold(gray2, 25, 255, cv2.THRESH_BINARY)\n",
    "\n",
    "# Invert the thresholded image\n",
    "thresholded = 255 - thresholded\n",
    "cv2.imwrite(\"thresholded.png\", thresholded)\n",
    "# Multiply the original image with the thresholded image to get the subtracted area\n",
    "result = cv2.bitwise_and(img1, img1, mask=thresholded)\n",
    "\n",
    "# Display the result\n",
    "cv2.imwrite(\"result.png\", result)\n"
   ]
  },
  {
   "cell_type": "code",
   "execution_count": 3,
   "metadata": {},
   "outputs": [
    {
     "data": {
      "text/plain": [
       "True"
      ]
     },
     "execution_count": 3,
     "metadata": {},
     "output_type": "execute_result"
    }
   ],
   "source": [
    "import cv2\n",
    "import numpy as np\n",
    "\n",
    "# Load the input image\n",
    "img = cv2.imread(\"./im1_r.png\")\n",
    "\n",
    "# Convert the images to grayscale\n",
    "gray = cv2.cvtColor(img, cv2.COLOR_BGR2GRAY)\n",
    "\n",
    "\n",
    "# Threshold the image to get a binary mask\n",
    "_, mask = cv2.threshold(gray, 128, 255, cv2.THRESH_BINARY)\n",
    "\n",
    "# Invert the binary mask\n",
    "mask = cv2.bitwise_not(mask)\n",
    "\n",
    "cv2.imwrite(\"mask2.png\", mask)\n",
    "\n",
    "# Create a small square-shaped structuring element\n",
    "kernel = np.ones((5, 5), np.uint8)\n",
    "\n",
    "# Perform morphological dilation on the binary mask\n",
    "dilation = cv2.dilate(mask, kernel, iterations=1)\n",
    "\n",
    "# Subtract the dilation from the binary mask\n",
    "result = cv2.subtract(mask, dilation)\n",
    "\n",
    "# Show the result\n",
    "cv2.imwrite(\"result2.png\", result)"
   ]
  },
  {
   "cell_type": "code",
   "execution_count": 17,
   "metadata": {},
   "outputs": [
    {
     "data": {
      "text/plain": [
       "True"
      ]
     },
     "execution_count": 17,
     "metadata": {},
     "output_type": "execute_result"
    }
   ],
   "source": [
    "import cv2\n",
    "import numpy as np\n",
    "\n",
    "# Load the input image\n",
    "img1 = cv2.imread(\"./mask.png\")\n",
    "img2 = cv2.imread(\"./mask2.png\")\n",
    "\n",
    "# Convert the images to grayscale\n",
    "gray1 = cv2.cvtColor(img1, cv2.COLOR_BGR2GRAY)\n",
    "gray2 = cv2.cvtColor(img2, cv2.COLOR_BGR2GRAY)\n",
    "\n",
    "# Crop mask2 to match mask1\n",
    "result = cv2.subtract(gray2, gray1)\n",
    "result = 255 - result\n",
    "\n",
    "ori = cv2.imread(\"./im0_l.png\")\n",
    "\n",
    "final = cv2.bitwise_and(ori, ori, mask=result)\n",
    "\n",
    "cv2.imwrite(\"final.png\", final)\n"
   ]
  },
  {
   "cell_type": "code",
   "execution_count": 18,
   "metadata": {},
   "outputs": [
    {
     "name": "stderr",
     "output_type": "stream",
     "text": [
      "[ WARN:0@1239.975] global /Users/xperience/actions-runner/_work/opencv-python/opencv-python/opencv/modules/imgcodecs/src/loadsave.cpp (239) findDecoder imread_('./im0_r.png'): can't open/read file: check file path/integrity\n"
     ]
    },
    {
     "ename": "error",
     "evalue": "OpenCV(4.6.0) /Users/xperience/actions-runner/_work/opencv-python/opencv-python/opencv/modules/core/src/arithm.cpp:230: error: (-215:Assertion failed) (mtype == CV_8U || mtype == CV_8S) && _mask.sameSize(*psrc1) in function 'binary_op'\n",
     "output_type": "error",
     "traceback": [
      "\u001b[0;31m---------------------------------------------------------------------------\u001b[0m",
      "\u001b[0;31merror\u001b[0m                                     Traceback (most recent call last)",
      "\u001b[0;32m/var/folders/c6/czw43ywn7lg0wwn550w89xmr0000gn/T/ipykernel_42761/94896352.py\u001b[0m in \u001b[0;36m<cell line: 18>\u001b[0;34m()\u001b[0m\n\u001b[1;32m     16\u001b[0m \u001b[0mori\u001b[0m \u001b[0;34m=\u001b[0m \u001b[0mcv2\u001b[0m\u001b[0;34m.\u001b[0m\u001b[0mimread\u001b[0m\u001b[0;34m(\u001b[0m\u001b[0;34m\"./im0_r.png\"\u001b[0m\u001b[0;34m)\u001b[0m\u001b[0;34m\u001b[0m\u001b[0;34m\u001b[0m\u001b[0m\n\u001b[1;32m     17\u001b[0m \u001b[0;34m\u001b[0m\u001b[0m\n\u001b[0;32m---> 18\u001b[0;31m \u001b[0mfinal\u001b[0m \u001b[0;34m=\u001b[0m \u001b[0mcv2\u001b[0m\u001b[0;34m.\u001b[0m\u001b[0mbitwise_and\u001b[0m\u001b[0;34m(\u001b[0m\u001b[0mori\u001b[0m\u001b[0;34m,\u001b[0m \u001b[0mori\u001b[0m\u001b[0;34m,\u001b[0m \u001b[0mmask\u001b[0m\u001b[0;34m=\u001b[0m\u001b[0mresult\u001b[0m\u001b[0;34m)\u001b[0m\u001b[0;34m\u001b[0m\u001b[0;34m\u001b[0m\u001b[0m\n\u001b[0m\u001b[1;32m     19\u001b[0m \u001b[0;34m\u001b[0m\u001b[0m\n\u001b[1;32m     20\u001b[0m \u001b[0mcv2\u001b[0m\u001b[0;34m.\u001b[0m\u001b[0mimwrite\u001b[0m\u001b[0;34m(\u001b[0m\u001b[0;34m\"final.png\"\u001b[0m\u001b[0;34m,\u001b[0m \u001b[0mfinal\u001b[0m\u001b[0;34m)\u001b[0m\u001b[0;34m\u001b[0m\u001b[0;34m\u001b[0m\u001b[0m\n",
      "\u001b[0;31merror\u001b[0m: OpenCV(4.6.0) /Users/xperience/actions-runner/_work/opencv-python/opencv-python/opencv/modules/core/src/arithm.cpp:230: error: (-215:Assertion failed) (mtype == CV_8U || mtype == CV_8S) && _mask.sameSize(*psrc1) in function 'binary_op'\n"
     ]
    }
   ],
   "source": [
    "import cv2\n",
    "import numpy as np\n",
    "\n",
    "# Load the input image\n",
    "img1 = cv2.imread(\"./mask.png\")\n",
    "img2 = cv2.imread(\"./mask2.png\")\n",
    "\n",
    "# Convert the images to grayscale\n",
    "gray1 = cv2.cvtColor(img1, cv2.COLOR_BGR2GRAY)\n",
    "gray2 = cv2.cvtColor(img2, cv2.COLOR_BGR2GRAY)\n",
    "\n",
    "# Crop mask2 to match mask1\n",
    "result = cv2.subtract(gray1, gray2)\n",
    "result = 255 - result\n",
    "\n",
    "ori = cv2.imread(\"./im1_r.png\")\n",
    "\n",
    "final = cv2.bitwise_and(ori, ori, mask=result)\n",
    "\n",
    "cv2.imwrite(\"final.png\", final)\n"
   ]
  },
  {
   "cell_type": "code",
   "execution_count": null,
   "metadata": {},
   "outputs": [],
   "source": []
  }
 ],
 "metadata": {
  "kernelspec": {
   "display_name": "idl",
   "language": "python",
   "name": "python3"
  },
  "language_info": {
   "codemirror_mode": {
    "name": "ipython",
    "version": 3
   },
   "file_extension": ".py",
   "mimetype": "text/x-python",
   "name": "python",
   "nbconvert_exporter": "python",
   "pygments_lexer": "ipython3",
   "version": "3.8.13"
  },
  "metadata": {
   "interpreter": {
    "hash": "b157589e2ede00d340fed454223ce98f3e66982c0431b5c5286cc0a4d3cc5a4f"
   }
  },
  "orig_nbformat": 2,
  "vscode": {
   "interpreter": {
    "hash": "5d4d2ea42f9d0d09e61e0b8d0be682d345c5f9771f344c188748daadb0295e2c"
   }
  }
 },
 "nbformat": 4,
 "nbformat_minor": 2
}
