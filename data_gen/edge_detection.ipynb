{
 "cells": [
  {
   "cell_type": "code",
   "execution_count": 30,
   "metadata": {},
   "outputs": [
    {
     "data": {
      "text/plain": [
       "True"
      ]
     },
     "execution_count": 30,
     "metadata": {},
     "output_type": "execute_result"
    }
   ],
   "source": [
    "import cv2\n",
    "import numpy as np\n",
    "\n",
    "# Load the input image\n",
    "left_img = cv2.imread(\"./11_l.png\")\n",
    "right_img = cv2.imread(\"./11_r.png\")\n",
    "\n",
    "# Convert the image to grayscale\n",
    "gray_left = cv2.cvtColor(left_img, cv2.COLOR_BGR2GRAY)\n",
    "gray_right = cv2.cvtColor(right_img, cv2.COLOR_BGR2GRAY)\n",
    "\n",
    "# Threshold the image to get a binary mask\n",
    "_, mask_left = cv2.threshold(gray_left, 148, 255, cv2.THRESH_BINARY)\n",
    "_, mask_right = cv2.threshold(gray_right, 148, 255, cv2.THRESH_BINARY)\n",
    "\n",
    "# Invert the binary mask\n",
    "mask_left = cv2.bitwise_not(mask_left)\n",
    "mask_right = cv2.bitwise_not(mask_right)\n",
    "shift_left = np.zeros_like(mask_left)\n",
    "shift_right = np.zeros_like(mask_right)\n",
    "\n",
    "h, w = gray_left.shape     # for gray image\n",
    "shift = 7           # any legal number 0 < x < h\n",
    "\n",
    "shift_left[:, :w-shift] = mask_left[:, shift:]\n",
    "shift_left[:, w-shift:] = 0\n",
    "\n",
    "shift_right[:, shift:] = mask_right[:, :w-shift]\n",
    "shift_right[:, :shift] = 0\n",
    "\n",
    "shift_left = cv2.subtract(shift_left, mask_left)\n",
    "shift_left = 255 - shift_left\n",
    "\n",
    "shift_right = cv2.subtract(shift_right, mask_right)\n",
    "shift_right = 255 - shift_right\n",
    "\n",
    "final_l = cv2.bitwise_and(left_img, left_img, mask=shift_left)\n",
    "final_r = cv2.bitwise_and(right_img, right_img, mask=shift_right)\n",
    "cv2.imwrite(\"./final_l.png\", final_l)   \n",
    "cv2.imwrite(\"./final_r.png\", final_r)\n"
   ]
  },
  {
   "cell_type": "code",
   "execution_count": null,
   "metadata": {},
   "outputs": [],
   "source": []
  }
 ],
 "metadata": {
  "kernelspec": {
   "display_name": "idl",
   "language": "python",
   "name": "python3"
  },
  "language_info": {
   "codemirror_mode": {
    "name": "ipython",
    "version": 3
   },
   "file_extension": ".py",
   "mimetype": "text/x-python",
   "name": "python",
   "nbconvert_exporter": "python",
   "pygments_lexer": "ipython3",
   "version": "3.8.13"
  },
  "orig_nbformat": 4,
  "vscode": {
   "interpreter": {
    "hash": "5d4d2ea42f9d0d09e61e0b8d0be682d345c5f9771f344c188748daadb0295e2c"
   }
  }
 },
 "nbformat": 4,
 "nbformat_minor": 2
}
