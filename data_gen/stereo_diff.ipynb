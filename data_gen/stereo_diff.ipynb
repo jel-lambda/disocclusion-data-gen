{
 "cells": [
  {
   "cell_type": "markdown",
   "metadata": {},
   "source": [
    "### Combine image with area information"
   ]
  },
  {
   "cell_type": "code",
   "execution_count": 24,
   "metadata": {},
   "outputs": [],
   "source": [
    "import numpy as np\n",
    "import matplotlib.pyplot as plt\n",
    "import cv2\n",
    "from numpy.lib.type_check import imag\n"
   ]
  },
  {
   "cell_type": "code",
   "execution_count": 25,
   "metadata": {},
   "outputs": [
    {
     "data": {
      "text/plain": [
       "True"
      ]
     },
     "execution_count": 25,
     "metadata": {},
     "output_type": "execute_result"
    }
   ],
   "source": [
    "\n",
    "# calculate the difference of two images\n",
    "\n",
    "left = cv2.imread(\"./11_l.png\")\n",
    "right = cv2.imread(\"./11_r.png\")\n",
    "\n",
    "# Convert the images to grayscale\n",
    "\n",
    "gray1 = cv2.cvtColor(left, cv2.COLOR_BGR2GRAY)\n",
    "gray2 = cv2.cvtColor(right, cv2.COLOR_BGR2GRAY)\n",
    "\n",
    "difference = cv2.absdiff(gray1, gray2)\n",
    "_, difference = cv2.threshold(difference, 25, 255, cv2.THRESH_BINARY)\n",
    "\n",
    "# subtracted=cv2.absdiff(left, right)\n",
    "cv2.imwrite(\"difference.png\", difference)"
   ]
  },
  {
   "cell_type": "code",
   "execution_count": 26,
   "metadata": {},
   "outputs": [],
   "source": [
    "import cv2\n",
    "import numpy as np\n",
    "\n",
    "# Threshold the image to get a binary mask\n",
    "_, mask1 = cv2.threshold(gray1, 128, 255, cv2.THRESH_BINARY)\n",
    "_, mask2 = cv2.threshold(gray2, 128, 255, cv2.THRESH_BINARY)\n",
    "\n",
    "# Invert the binary mask\n",
    "mask1 = cv2.bitwise_not(mask1)\n",
    "mask2 = cv2.bitwise_not(mask2)\n",
    "\n"
   ]
  },
  {
   "cell_type": "code",
   "execution_count": 27,
   "metadata": {},
   "outputs": [
    {
     "data": {
      "text/plain": [
       "True"
      ]
     },
     "execution_count": 27,
     "metadata": {},
     "output_type": "execute_result"
    }
   ],
   "source": [
    "import cv2\n",
    "import numpy as np\n",
    "\n",
    "# Crop mask2 to match mask1\n",
    "result0 = cv2.subtract(mask2, mask1)\n",
    "result0 = 255 - result0\n",
    "result1 = cv2.subtract(mask1, mask2)\n",
    "result1 = 255 - result1\n",
    "\n",
    "final0 = cv2.bitwise_and(left, left, mask=result0)\n",
    "final1 = cv2.bitwise_and(right, right, mask=result1)\n",
    "\n",
    "cv2.imwrite(\"final0.png\", final0)\n",
    "cv2.imwrite(\"final1.png\", final1)\n"
   ]
  }
 ],
 "metadata": {
  "kernelspec": {
   "display_name": "idl",
   "language": "python",
   "name": "python3"
  },
  "language_info": {
   "codemirror_mode": {
    "name": "ipython",
    "version": 3
   },
   "file_extension": ".py",
   "mimetype": "text/x-python",
   "name": "python",
   "nbconvert_exporter": "python",
   "pygments_lexer": "ipython3",
   "version": "3.8.13"
  },
  "metadata": {
   "interpreter": {
    "hash": "b157589e2ede00d340fed454223ce98f3e66982c0431b5c5286cc0a4d3cc5a4f"
   }
  },
  "orig_nbformat": 2,
  "vscode": {
   "interpreter": {
    "hash": "5d4d2ea42f9d0d09e61e0b8d0be682d345c5f9771f344c188748daadb0295e2c"
   }
  }
 },
 "nbformat": 4,
 "nbformat_minor": 2
}
